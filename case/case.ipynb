{
 "cells": [
  {
   "cell_type": "markdown",
   "metadata": {},
   "source": [
    "## Hope you can help!\n",
    "Hi there! On behalf of the City of College Station data team, I wanted to thank you for helping us get our data pipelines established.\n",
    "\n",
    "We currently have a set of sensors between major roads in College Station that monitor traffic statistics. They update every 5 minutes and are available via an API. For our first initiative, we want to begin collecting information on the average speed that people are moving, by cardinal direction. You can see the API call and the pandas code that our analyst has been using to get the data and transform it. \n",
    "\n",
    "We were hoping you could help us with each of the following:\n",
    "\n",
    "1. Move the code below into discrete functions\n",
    "2. Write the raw results of the API call to an S3 bucket\n",
    "3. Write the transformed results to a SQLite database. Maybe write it to an Amazon database if you have some extra time. The columns that we would like the table to have are `direction` (str), `speed` (int), and `timestamp` (datetime).\n",
    "4. Create a deployment and schedule it to run every 5 minutes\n",
    "5. Setup Prefect Cloud to interact with the pipeline\n",
    "6. Launch an agent locally to execute flow runs\n",
    "\n"
   ]
  },
  {
   "cell_type": "code",
   "execution_count": 1,
   "metadata": {},
   "outputs": [],
   "source": [
    "from sodapy import Socrata\n",
    "import pandas as pd"
   ]
  },
  {
   "cell_type": "code",
   "execution_count": null,
   "metadata": {},
   "outputs": [],
   "source": [
    "# Get our data from https://dev.socrata.com/foundry/data.cstx.gov/g7k6-2zz6\n",
    "key = \"g7k6-2zz6\"\n",
    "client = Socrata(\"data.cstx.gov\", None)\n",
    "results = client.get(key, limit=200)\n",
    "print(results)"
   ]
  },
  {
   "cell_type": "code",
   "execution_count": null,
   "metadata": {},
   "outputs": [],
   "source": [
    "# Aggregate data by cardinal direction\n",
    "results_df = pd.DataFrame.from_records(results)\n",
    "results_df[\"speedmph\"] = results_df[\"speedmph\"].astype(int)\n",
    "speed_by_dir = results_df.groupby(\"origdirection\").mean().speedmph"
   ]
  }
 ],
 "metadata": {
  "interpreter": {
   "hash": "06e6f1dd4f17d3660aa7db23f6d2ce3316c4713bf412bd57fdef93ef3a7eba73"
  },
  "kernelspec": {
   "display_name": "Python 3.8.11 ('base')",
   "language": "python",
   "name": "python3"
  },
  "language_info": {
   "codemirror_mode": {
    "name": "ipython",
    "version": 3
   },
   "file_extension": ".py",
   "mimetype": "text/x-python",
   "name": "python",
   "nbconvert_exporter": "python",
   "pygments_lexer": "ipython3",
   "version": "3.8.11"
  },
  "orig_nbformat": 4
 },
 "nbformat": 4,
 "nbformat_minor": 2
}
